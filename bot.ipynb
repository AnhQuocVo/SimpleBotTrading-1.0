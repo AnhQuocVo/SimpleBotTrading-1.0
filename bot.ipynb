{
 "cells": [
  {
   "cell_type": "code",
   "execution_count": 2,
   "id": "f1845879",
   "metadata": {},
   "outputs": [
    {
     "ename": "ModuleNotFoundError",
     "evalue": "No module named 'pandas_ta'",
     "output_type": "error",
     "traceback": [
      "\u001b[1;31m---------------------------------------------------------------------------\u001b[0m",
      "\u001b[1;31mModuleNotFoundError\u001b[0m                       Traceback (most recent call last)",
      "Cell \u001b[1;32mIn[2], line 2\u001b[0m\n\u001b[0;32m      1\u001b[0m \u001b[38;5;28;01mimport\u001b[39;00m \u001b[38;5;21;01mpandas\u001b[39;00m \u001b[38;5;28;01mas\u001b[39;00m \u001b[38;5;21;01mpd\u001b[39;00m\n\u001b[1;32m----> 2\u001b[0m \u001b[38;5;28;01mimport\u001b[39;00m \u001b[38;5;21;01mpandas_ta\u001b[39;00m \u001b[38;5;28;01mas\u001b[39;00m \u001b[38;5;21;01mta\u001b[39;00m\n\u001b[0;32m      3\u001b[0m \u001b[38;5;28;01mimport\u001b[39;00m \u001b[38;5;21;01mconfig\u001b[39;00m\n\u001b[0;32m      4\u001b[0m \u001b[38;5;28;01mfrom\u001b[39;00m \u001b[38;5;21;01moandapyV20\u001b[39;00m \u001b[38;5;28;01mimport\u001b[39;00m API\n",
      "\u001b[1;31mModuleNotFoundError\u001b[0m: No module named 'pandas_ta'"
     ]
    }
   ],
   "source": [
    "import pandas as pd\n",
    "import pandas_ta as ta\n",
    "import config\n",
    "from oandapyV20 import API\n",
    "import oandapyV20.endpoints.instruments as instruments\n",
    "import oandapyV20.endpoints.orders as orders\n",
    "\n",
    "from datetime import datetime, timezone\n",
    "import time"
   ]
  },
  {
   "cell_type": "code",
   "execution_count": null,
   "id": "c668c326",
   "metadata": {},
   "outputs": [],
   "source": [
    "# Setup your OANDA connection\n",
    "client = API(access_token=config.OANDA_API_KEY)"
   ]
  },
  {
   "cell_type": "code",
   "execution_count": null,
   "id": "1d69b453",
   "metadata": {},
   "outputs": [],
   "source": [
    "# define variables\n",
    "timeframe = \"M1\"\n",
    "instrument = \"GBP_JPY\""
   ]
  },
  {
   "cell_type": "code",
   "execution_count": null,
   "id": "068172a7",
   "metadata": {},
   "outputs": [],
   "source": [
    "def get_candles(tf):\n",
    "    params = {\n",
    "        \"granularity\": tf,\n",
    "        \"price\": \"A\"  # Ask prices\n",
    "    }\n",
    "\n",
    "    r = instruments.InstrumentsCandles(instrument=instrument, params=params)\n",
    "    candles = client.request(r)['candles']\n",
    "\n",
    "    # Convert to pandas DataFrame\n",
    "    data = []\n",
    "\n",
    "    for c in candles:\n",
    "        if c[\"complete\"]:\n",
    "            data.append({\n",
    "                \"time\": c[\"time\"],\n",
    "                \"open\": float(c[\"ask\"][\"o\"]),\n",
    "                \"high\": float(c[\"ask\"][\"h\"]),\n",
    "                \"low\": float(c[\"ask\"][\"l\"]),\n",
    "                \"close\": float(c[\"ask\"][\"c\"])\n",
    "            })\n",
    "\n",
    "    df = pd.DataFrame(data)\n",
    "    df[\"time\"] = pd.to_datetime(df[\"time\"])\n",
    "    \n",
    "    return df"
   ]
  },
  {
   "cell_type": "code",
   "execution_count": null,
   "id": "b2168aff",
   "metadata": {},
   "outputs": [],
   "source": [
    "# Function to calculate indicators\n",
    "def calculate_indicators(df):\n",
    "    # EMAs\n",
    "    df[\"EMA_5\"] = ta.ema(df[\"close\"], length=5)\n",
    "    df[\"EMA_8\"] = ta.ema(df[\"close\"], length=8)\n",
    "\n",
    "    # ATR\n",
    "    df[\"ATR_14\"] = ta.atr(df[\"high\"], df[\"low\"], df[\"close\"], length=14)\n",
    "\n",
    "    return df"
   ]
  },
  {
   "cell_type": "code",
   "execution_count": null,
   "id": "2dc52d8f",
   "metadata": {},
   "outputs": [],
   "source": [
    "# Function to place an order\n",
    "def place_order(stop_loss, take_profit):\n",
    "    data = {\n",
    "        \"order\": {\n",
    "            \"instrument\": instrument,\n",
    "            \"units\": 1,\n",
    "            \"type\": \"MARKET\",\n",
    "            \"stopLossOnFill\": {\"price\": f\"{stop_loss:.3f}\"},\n",
    "            \"takeProfitOnFill\": {\"price\": f\"{take_profit:.3f}\"},\n",
    "        }\n",
    "    }\n",
    "\n",
    "    r = orders.OrderCreate(config.OANDA_ACCOUNT_ID, data=data)\n",
    "    client.request(r)\n",
    "    print(f\"Placed order for {instrument} with stop loss at {round(stop_loss, 3)} and take profit at {round(take_profit, 3)}.\")"
   ]
  },
  {
   "cell_type": "code",
   "execution_count": null,
   "id": "4400e0fd",
   "metadata": {},
   "outputs": [],
   "source": [
    "# Function to check for EMA Crossover signals\n",
    "def ema_crossover(df):\n",
    "    tp_ratio = 1.5\n",
    "\n",
    "    # Check if the 5-period EMA crosses above the 8-period EMA\n",
    "    last_candle = df.iloc[-1]\n",
    "    previous_candle = df.iloc[-2]\n",
    "\n",
    "    # Crossover Buy Signal (EMA 5 crosses above EMA 8)\n",
    "    if last_candle['EMA_5'] > last_candle['EMA_8'] and previous_candle['EMA_5'] < previous_candle['EMA_8']:\n",
    "        print(\"Buy Signal: EMA 5 crossed above EMA 8\")\n",
    "        entry_price = last_candle['close']\n",
    "        stop_loss = entry_price - last_candle['ATR_14']\n",
    "        stop_distance = entry_price - stop_loss\n",
    "        take_profit = entry_price + (stop_distance * tp_ratio)\n",
    "        place_order(stop_loss, take_profit)\n",
    "    else:\n",
    "        print(\"Strategy conditions not met\")"
   ]
  },
  {
   "cell_type": "code",
   "execution_count": null,
   "id": "b7ce96c8",
   "metadata": {},
   "outputs": [],
   "source": [
    "def run_bot():\n",
    "    print(\"Starting trading bot\")\n",
    "    last_checked = None\n",
    "\n",
    "    while True:\n",
    "        current_time = datetime.now(timezone.utc)\n",
    "        \n",
    "        # Check for a new 15 minute candle\n",
    "        #if current_time.minute % 15 == 0 and current_time.second < 10:\n",
    "        if current_time.minute % 1 == 0 and current_time.second < 10:\n",
    "            # Check if the 15-minute interval has changed since the last check\n",
    "            if last_checked != current_time.minute:\n",
    "                print(f\"Current time: {current_time}\")\n",
    "                print(\"Checking for trade signals\")\n",
    "                price = get_candles(timeframe)\n",
    "                price = calculate_indicators(price)\n",
    "                ema_crossover(price)\n",
    "                last_checked = current_time.minute  # Update to prevent re-triggering\n",
    "\n",
    "        time.sleep(1)"
   ]
  },
  {
   "cell_type": "code",
   "execution_count": null,
   "id": "746a05a7",
   "metadata": {},
   "outputs": [
    {
     "name": "stdout",
     "output_type": "stream",
     "text": [
      "Starting trading bot\n",
      "Current time: 2025-05-14 11:01:00.774816+00:00\n",
      "Checking for trade signals\n",
      "Strategy conditions not met\n",
      "Current time: 2025-05-14 11:02:00.019198+00:00\n",
      "Checking for trade signals\n",
      "Strategy conditions not met\n"
     ]
    },
    {
     "ename": "KeyboardInterrupt",
     "evalue": "",
     "output_type": "error",
     "traceback": [
      "\u001b[1;31m---------------------------------------------------------------------------\u001b[0m",
      "\u001b[1;31mKeyboardInterrupt\u001b[0m                         Traceback (most recent call last)",
      "Cell \u001b[1;32mIn[36], line 1\u001b[0m\n\u001b[1;32m----> 1\u001b[0m \u001b[43mrun_bot\u001b[49m\u001b[43m(\u001b[49m\u001b[43m)\u001b[49m\n",
      "Cell \u001b[1;32mIn[35], line 20\u001b[0m, in \u001b[0;36mrun_bot\u001b[1;34m()\u001b[0m\n\u001b[0;32m     17\u001b[0m         ema_crossover(price)\n\u001b[0;32m     18\u001b[0m         last_checked \u001b[38;5;241m=\u001b[39m current_time\u001b[38;5;241m.\u001b[39mminute  \u001b[38;5;66;03m# Update to prevent re-triggering\u001b[39;00m\n\u001b[1;32m---> 20\u001b[0m \u001b[43mtime\u001b[49m\u001b[38;5;241;43m.\u001b[39;49m\u001b[43msleep\u001b[49m\u001b[43m(\u001b[49m\u001b[38;5;241;43m1\u001b[39;49m\u001b[43m)\u001b[49m\n",
      "\u001b[1;31mKeyboardInterrupt\u001b[0m: "
     ]
    }
   ],
   "source": [
    "run_bot()"
   ]
  }
 ],
 "metadata": {
  "kernelspec": {
   "display_name": "base",
   "language": "python",
   "name": "python3"
  },
  "language_info": {
   "codemirror_mode": {
    "name": "ipython",
    "version": 3
   },
   "file_extension": ".py",
   "mimetype": "text/x-python",
   "name": "python",
   "nbconvert_exporter": "python",
   "pygments_lexer": "ipython3",
   "version": "3.12.7"
  }
 },
 "nbformat": 4,
 "nbformat_minor": 5
}
